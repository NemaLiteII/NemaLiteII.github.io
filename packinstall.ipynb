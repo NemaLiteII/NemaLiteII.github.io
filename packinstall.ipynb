{
 "cells": [
  {
   "cell_type": "code",
   "execution_count": 6,
   "metadata": {},
   "outputs": [
    {
     "name": "stdout",
     "output_type": "stream",
     "text": [
      "Requirement already satisfied: docxtpl in c:\\users\\света\\appdata\\local\\programs\\python\\python37\\lib\\site-packages (0.9.2)\n",
      "Requirement already satisfied: python-docx in c:\\users\\света\\appdata\\local\\programs\\python\\python37\\lib\\site-packages (from docxtpl) (0.8.10)\n",
      "Requirement already satisfied: jinja2 in c:\\users\\света\\appdata\\local\\programs\\python\\python37\\lib\\site-packages (from docxtpl) (2.10.1)\n",
      "Requirement already satisfied: lxml in c:\\users\\света\\appdata\\local\\programs\\python\\python37\\lib\\site-packages (from docxtpl) (4.5.0)\n",
      "Requirement already satisfied: six in c:\\users\\света\\appdata\\local\\programs\\python\\python37\\lib\\site-packages (from docxtpl) (1.12.0)\n",
      "Requirement already satisfied: MarkupSafe>=0.23 in c:\\users\\света\\appdata\\local\\programs\\python\\python37\\lib\\site-packages (from jinja2->docxtpl) (1.1.1)\n"
     ]
    },
    {
     "name": "stderr",
     "output_type": "stream",
     "text": [
      "WARNING: You are using pip version 20.1; however, version 20.1.1 is available.\n",
      "You should consider upgrading via the 'c:\\users\\света\\appdata\\local\\programs\\python\\python37\\python.exe -m pip install --upgrade pip' command.\n",
      "ERROR: Could not find a version that satisfies the requirement docx.shared (from versions: none)\n",
      "ERROR: No matching distribution found for docx.shared\n",
      "WARNING: You are using pip version 20.1; however, version 20.1.1 is available.\n",
      "You should consider upgrading via the 'c:\\users\\света\\appdata\\local\\programs\\python\\python37\\python.exe -m pip install --upgrade pip' command.\n"
     ]
    },
    {
     "name": "stdout",
     "output_type": "stream",
     "text": [
      "Requirement already satisfied: pandas in c:\\users\\света\\appdata\\local\\programs\\python\\python37\\lib\\site-packages (0.25.1)\n",
      "Requirement already satisfied: pytz>=2017.2 in c:\\users\\света\\appdata\\local\\programs\\python\\python37\\lib\\site-packages (from pandas) (2019.2)\n",
      "Requirement already satisfied: numpy>=1.13.3 in c:\\users\\света\\appdata\\local\\programs\\python\\python37\\lib\\site-packages (from pandas) (1.17.2)\n",
      "Requirement already satisfied: python-dateutil>=2.6.1 in c:\\users\\света\\appdata\\local\\programs\\python\\python37\\lib\\site-packages (from pandas) (2.8.0)\n",
      "Requirement already satisfied: six>=1.5 in c:\\users\\света\\appdata\\local\\programs\\python\\python37\\lib\\site-packages (from python-dateutil>=2.6.1->pandas) (1.12.0)\n"
     ]
    },
    {
     "name": "stderr",
     "output_type": "stream",
     "text": [
      "WARNING: You are using pip version 20.1; however, version 20.1.1 is available.\n",
      "You should consider upgrading via the 'c:\\users\\света\\appdata\\local\\programs\\python\\python37\\python.exe -m pip install --upgrade pip' command.\n"
     ]
    },
    {
     "name": "stdout",
     "output_type": "stream",
     "text": [
      "Requirement already satisfied: numpy in c:\\users\\света\\appdata\\local\\programs\\python\\python37\\lib\\site-packages (1.17.2)\n"
     ]
    },
    {
     "name": "stderr",
     "output_type": "stream",
     "text": [
      "WARNING: You are using pip version 20.1; however, version 20.1.1 is available.\n",
      "You should consider upgrading via the 'c:\\users\\света\\appdata\\local\\programs\\python\\python37\\python.exe -m pip install --upgrade pip' command.\n"
     ]
    },
    {
     "name": "stdout",
     "output_type": "stream",
     "text": [
      "Requirement already satisfied: pydrive in c:\\users\\света\\appdata\\local\\programs\\python\\python37\\lib\\site-packages (1.3.1)\n",
      "Requirement already satisfied: oauth2client>=4.0.0 in c:\\users\\света\\appdata\\local\\programs\\python\\python37\\lib\\site-packages (from pydrive) (4.1.3)\n",
      "Requirement already satisfied: PyYAML>=3.0 in c:\\users\\света\\appdata\\local\\programs\\python\\python37\\lib\\site-packages (from pydrive) (5.3.1)\n",
      "Requirement already satisfied: google-api-python-client>=1.2 in c:\\users\\света\\appdata\\local\\programs\\python\\python37\\lib\\site-packages (from pydrive) (1.8.3)\n",
      "Requirement already satisfied: httplib2>=0.9.1 in c:\\users\\света\\appdata\\local\\programs\\python\\python37\\lib\\site-packages (from oauth2client>=4.0.0->pydrive) (0.17.3)\n",
      "Requirement already satisfied: rsa>=3.1.4 in c:\\users\\света\\appdata\\local\\programs\\python\\python37\\lib\\site-packages (from oauth2client>=4.0.0->pydrive) (4.0)\n",
      "Requirement already satisfied: pyasn1>=0.1.7 in c:\\users\\света\\appdata\\local\\programs\\python\\python37\\lib\\site-packages (from oauth2client>=4.0.0->pydrive) (0.4.8)\n",
      "Requirement already satisfied: six>=1.6.1 in c:\\users\\света\\appdata\\local\\programs\\python\\python37\\lib\\site-packages (from oauth2client>=4.0.0->pydrive) (1.12.0)\n",
      "Requirement already satisfied: pyasn1-modules>=0.0.5 in c:\\users\\света\\appdata\\local\\programs\\python\\python37\\lib\\site-packages (from oauth2client>=4.0.0->pydrive) (0.2.8)\n",
      "Requirement already satisfied: google-api-core<2dev,>=1.13.0 in c:\\users\\света\\appdata\\local\\programs\\python\\python37\\lib\\site-packages (from google-api-python-client>=1.2->pydrive) (1.17.0)\n",
      "Requirement already satisfied: uritemplate<4dev,>=3.0.0 in c:\\users\\света\\appdata\\local\\programs\\python\\python37\\lib\\site-packages (from google-api-python-client>=1.2->pydrive) (3.0.1)\n",
      "Requirement already satisfied: google-auth>=1.4.1 in c:\\users\\света\\appdata\\local\\programs\\python\\python37\\lib\\site-packages (from google-api-python-client>=1.2->pydrive) (1.14.3)\n",
      "Requirement already satisfied: google-auth-httplib2>=0.0.3 in c:\\users\\света\\appdata\\local\\programs\\python\\python37\\lib\\site-packages (from google-api-python-client>=1.2->pydrive) (0.0.3)\n",
      "Requirement already satisfied: requests<3.0.0dev,>=2.18.0 in c:\\users\\света\\appdata\\local\\programs\\python\\python37\\lib\\site-packages (from google-api-core<2dev,>=1.13.0->google-api-python-client>=1.2->pydrive) (2.22.0)\n",
      "Requirement already satisfied: googleapis-common-protos<2.0dev,>=1.6.0 in c:\\users\\света\\appdata\\local\\programs\\python\\python37\\lib\\site-packages (from google-api-core<2dev,>=1.13.0->google-api-python-client>=1.2->pydrive) (1.51.0)\n",
      "Requirement already satisfied: pytz in c:\\users\\света\\appdata\\local\\programs\\python\\python37\\lib\\site-packages (from google-api-core<2dev,>=1.13.0->google-api-python-client>=1.2->pydrive) (2019.2)\n",
      "Requirement already satisfied: protobuf>=3.4.0 in c:\\users\\света\\appdata\\local\\programs\\python\\python37\\lib\\site-packages (from google-api-core<2dev,>=1.13.0->google-api-python-client>=1.2->pydrive) (3.11.3)\n",
      "Requirement already satisfied: setuptools>=34.0.0 in c:\\users\\света\\appdata\\local\\programs\\python\\python37\\lib\\site-packages (from google-api-core<2dev,>=1.13.0->google-api-python-client>=1.2->pydrive) (40.8.0)\n",
      "Requirement already satisfied: cachetools<5.0,>=2.0.0 in c:\\users\\света\\appdata\\local\\programs\\python\\python37\\lib\\site-packages (from google-auth>=1.4.1->google-api-python-client>=1.2->pydrive) (4.1.0)\n",
      "Requirement already satisfied: certifi>=2017.4.17 in c:\\users\\света\\appdata\\local\\programs\\python\\python37\\lib\\site-packages (from requests<3.0.0dev,>=2.18.0->google-api-core<2dev,>=1.13.0->google-api-python-client>=1.2->pydrive) (2019.9.11)\n",
      "Requirement already satisfied: idna<2.9,>=2.5 in c:\\users\\света\\appdata\\local\\programs\\python\\python37\\lib\\site-packages (from requests<3.0.0dev,>=2.18.0->google-api-core<2dev,>=1.13.0->google-api-python-client>=1.2->pydrive) (2.8)\n",
      "Requirement already satisfied: chardet<3.1.0,>=3.0.2 in c:\\users\\света\\appdata\\local\\programs\\python\\python37\\lib\\site-packages (from requests<3.0.0dev,>=2.18.0->google-api-core<2dev,>=1.13.0->google-api-python-client>=1.2->pydrive) (3.0.4)\n",
      "Requirement already satisfied: urllib3!=1.25.0,!=1.25.1,<1.26,>=1.21.1 in c:\\users\\света\\appdata\\local\\programs\\python\\python37\\lib\\site-packages (from requests<3.0.0dev,>=2.18.0->google-api-core<2dev,>=1.13.0->google-api-python-client>=1.2->pydrive) (1.25.6)\n"
     ]
    },
    {
     "name": "stderr",
     "output_type": "stream",
     "text": [
      "WARNING: You are using pip version 20.1; however, version 20.1.1 is available.\n",
      "You should consider upgrading via the 'c:\\users\\света\\appdata\\local\\programs\\python\\python37\\python.exe -m pip install --upgrade pip' command.\n"
     ]
    },
    {
     "name": "stdout",
     "output_type": "stream",
     "text": [
      "Requirement already satisfied: requests in c:\\users\\света\\appdata\\local\\programs\\python\\python37\\lib\\site-packages (2.22.0)\n",
      "Requirement already satisfied: chardet<3.1.0,>=3.0.2 in c:\\users\\света\\appdata\\local\\programs\\python\\python37\\lib\\site-packages (from requests) (3.0.4)\n",
      "Requirement already satisfied: idna<2.9,>=2.5 in c:\\users\\света\\appdata\\local\\programs\\python\\python37\\lib\\site-packages (from requests) (2.8)\n",
      "Requirement already satisfied: certifi>=2017.4.17 in c:\\users\\света\\appdata\\local\\programs\\python\\python37\\lib\\site-packages (from requests) (2019.9.11)\n",
      "Requirement already satisfied: urllib3!=1.25.0,!=1.25.1,<1.26,>=1.21.1 in c:\\users\\света\\appdata\\local\\programs\\python\\python37\\lib\\site-packages (from requests) (1.25.6)\n"
     ]
    },
    {
     "name": "stderr",
     "output_type": "stream",
     "text": [
      "WARNING: You are using pip version 20.1; however, version 20.1.1 is available.\n",
      "You should consider upgrading via the 'c:\\users\\света\\appdata\\local\\programs\\python\\python37\\python.exe -m pip install --upgrade pip' command.\n",
      "ERROR: Could not find a version that satisfies the requirement re (from versions: none)\n",
      "ERROR: No matching distribution found for re\n",
      "WARNING: You are using pip version 20.1; however, version 20.1.1 is available.\n",
      "You should consider upgrading via the 'c:\\users\\света\\appdata\\local\\programs\\python\\python37\\python.exe -m pip install --upgrade pip' command.\n",
      "ERROR: Could not find a version that satisfies the requirement string (from versions: none)\n",
      "ERROR: No matching distribution found for string\n",
      "WARNING: You are using pip version 20.1; however, version 20.1.1 is available.\n",
      "You should consider upgrading via the 'c:\\users\\света\\appdata\\local\\programs\\python\\python37\\python.exe -m pip install --upgrade pip' command.\n",
      "ERROR: Could not find a version that satisfies the requirement os (from versions: none)\n",
      "ERROR: No matching distribution found for os\n",
      "WARNING: You are using pip version 20.1; however, version 20.1.1 is available.\n",
      "You should consider upgrading via the 'c:\\users\\света\\appdata\\local\\programs\\python\\python37\\python.exe -m pip install --upgrade pip' command.\n",
      "ERROR: Could not find a version that satisfies the requirement time (from versions: none)\n",
      "ERROR: No matching distribution found for time\n",
      "WARNING: You are using pip version 20.1; however, version 20.1.1 is available.\n",
      "You should consider upgrading via the 'c:\\users\\света\\appdata\\local\\programs\\python\\python37\\python.exe -m pip install --upgrade pip' command.\n"
     ]
    }
   ],
   "source": [
    "!pip install docxtpl\n",
    "!pip install docx.shared\n",
    "!pip install pandas\n",
    "!pip install numpy\n",
    "!pip install pydrive\n",
    "!pip install requests\n",
    "!pip install re\n",
    "!pip install string\n",
    "!pip install os\n",
    "!pip install time"
   ]
  }
 ],
 "metadata": {
  "kernelspec": {
   "display_name": "Python 3",
   "language": "python",
   "name": "python3"
  },
  "language_info": {
   "codemirror_mode": {
    "name": "ipython",
    "version": 3
   },
   "file_extension": ".py",
   "mimetype": "text/x-python",
   "name": "python",
   "nbconvert_exporter": "python",
   "pygments_lexer": "ipython3",
   "version": "3.7.4"
  }
 },
 "nbformat": 4,
 "nbformat_minor": 2
}
